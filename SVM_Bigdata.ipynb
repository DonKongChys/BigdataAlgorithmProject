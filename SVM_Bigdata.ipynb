{
  "nbformat": 4,
  "nbformat_minor": 0,
  "metadata": {
    "colab": {
      "provenance": []
    },
    "kernelspec": {
      "name": "python3",
      "display_name": "Python 3"
    },
    "language_info": {
      "name": "python"
    }
  },
  "cells": [
    {
      "cell_type": "code",
      "source": [
        "!pip install pyspark"
      ],
      "metadata": {
        "colab": {
          "base_uri": "https://localhost:8080/"
        },
        "id": "rSXenzZV-pTI",
        "outputId": "f5417ad6-52d0-48dc-e879-9206e8dff94d"
      },
      "execution_count": null,
      "outputs": [
        {
          "output_type": "stream",
          "name": "stdout",
          "text": [
            "Collecting pyspark\n",
            "  Downloading pyspark-3.5.1.tar.gz (317.0 MB)\n",
            "\u001b[2K     \u001b[90m━━━━━━━━━━━━━━━━━━━━━━━━━━━━━━━━━━━━━━━━\u001b[0m \u001b[32m317.0/317.0 MB\u001b[0m \u001b[31m3.1 MB/s\u001b[0m eta \u001b[36m0:00:00\u001b[0m\n",
            "\u001b[?25h  Preparing metadata (setup.py) ... \u001b[?25l\u001b[?25hdone\n",
            "Requirement already satisfied: py4j==0.10.9.7 in /usr/local/lib/python3.10/dist-packages (from pyspark) (0.10.9.7)\n",
            "Building wheels for collected packages: pyspark\n",
            "  Building wheel for pyspark (setup.py) ... \u001b[?25l\u001b[?25hdone\n",
            "  Created wheel for pyspark: filename=pyspark-3.5.1-py2.py3-none-any.whl size=317488491 sha256=c0006832c8a83bcd1bc3e63869d5fdfbeca0db736f1536d86cb8d5da51e382f9\n",
            "  Stored in directory: /root/.cache/pip/wheels/80/1d/60/2c256ed38dddce2fdd93be545214a63e02fbd8d74fb0b7f3a6\n",
            "Successfully built pyspark\n",
            "Installing collected packages: pyspark\n",
            "Successfully installed pyspark-3.5.1\n"
          ]
        }
      ]
    },
    {
      "cell_type": "code",
      "source": [
        "from google.colab import drive\n",
        "drive.mount('/content/drive')\n",
        "\n",
        "# Bây giờ bạn có thể truy cập tệp trong Google Drive thông qua đường dẫn '/content/drive/My Drive/'\n"
      ],
      "metadata": {
        "colab": {
          "base_uri": "https://localhost:8080/"
        },
        "id": "4ZUzh56P5bZD",
        "outputId": "38961e83-2d6b-4b4c-fb7e-7d1a4abef55e"
      },
      "execution_count": null,
      "outputs": [
        {
          "output_type": "stream",
          "name": "stdout",
          "text": [
            "Mounted at /content/drive\n"
          ]
        }
      ]
    },
    {
      "cell_type": "markdown",
      "source": [
        "### Triển khai cả ba kernel ###"
      ],
      "metadata": {
        "id": "EDCTb0MheDyr"
      }
    },
    {
      "cell_type": "code",
      "source": [
        "from pyspark import SparkContext, SparkConf\n",
        "import numpy as np\n",
        "\n",
        "class SVM:\n",
        "    def __init__(self, kernel='rbf', C=10000.0, max_iter=10000, degree=3, gamma=1):\n",
        "        self.kernel = {'poly': lambda x, y: np.dot(x, y.T)**degree,\n",
        "                       'rbf': lambda x, y: np.exp(-gamma*np.sum((y-x[:, np.newaxis])**2, axis=-1)),\n",
        "                       'linear': lambda x, y: np.dot(x, y.T)}[kernel]\n",
        "        self.C = C\n",
        "        self.max_iter = max_iter\n",
        "\n",
        "    def restrict_to_square(self, t, v0, u):\n",
        "        t = (np.clip(v0 + t*u, 0, self.C) - v0)[1] / u[1]\n",
        "        return (np.clip(v0 + t*u, 0, self.C) - v0)[0] / u[0]\n",
        "\n",
        "    def fit_partition(self, data):\n",
        "        X, y = zip(*data)\n",
        "        X = np.array(X)\n",
        "        y = np.array(y)\n",
        "        y = y * 2 - 1\n",
        "\n",
        "        lambdas = np.zeros_like(y, dtype=float)\n",
        "        K = self.kernel(X, X) * y[:, np.newaxis] * y\n",
        "\n",
        "        for _ in range(self.max_iter):\n",
        "            idxM = np.random.randint(0, len(lambdas))\n",
        "            idxL = np.random.randint(0, len(lambdas))\n",
        "            Q = K[[[idxM, idxM], [idxL, idxL]], [[idxM, idxL], [idxM, idxL]]]\n",
        "            v0 = lambdas[[idxM, idxL]]\n",
        "            k0 = 1 - np.sum(lambdas * K[[idxM, idxL]], axis=1)\n",
        "            u = np.array([-y[idxL], y[idxM]])\n",
        "            t_max = np.dot(k0, u) / (np.dot(np.dot(Q, u), u) + 1E-15)\n",
        "            lambdas[[idxM, idxL]] = v0 + u * self.restrict_to_square(t_max, v0, u)\n",
        "\n",
        "        idx, = np.nonzero(lambdas > 1E-15)\n",
        "        support_vectors = X[idx]\n",
        "        support_y = y[idx]\n",
        "        support_lambdas = lambdas[idx]\n",
        "        return support_vectors, support_y, support_lambdas\n",
        "\n",
        "    def fit(self, data_rdd):\n",
        "        # Train the SVM on each partition and gather support vectors and lambdas\n",
        "        fit_results = data_rdd.mapPartitions(lambda partition: [self.fit_partition(partition)]).collect()\n",
        "\n",
        "        support_vectors, support_y, support_lambdas = zip(*fit_results)\n",
        "        support_vectors = np.concatenate(support_vectors)\n",
        "        support_y = np.concatenate(support_y)\n",
        "        support_lambdas = np.concatenate(support_lambdas)\n",
        "\n",
        "        # Compute the bias term b\n",
        "        kernel_values = self.kernel(support_vectors, support_vectors)\n",
        "        decision_values = np.sum(kernel_values * support_y[:, np.newaxis] * support_lambdas, axis=1)\n",
        "        b = np.mean(support_y - decision_values)\n",
        "\n",
        "        # Broadcast support vectors and lambdas\n",
        "        sc = SparkContext.getOrCreate()\n",
        "        self.support_vectors_bc = sc.broadcast(support_vectors)\n",
        "        self.support_y_bc = sc.broadcast(support_y)\n",
        "        self.support_lambdas_bc = sc.broadcast(support_lambdas)\n",
        "        self.b_bc = sc.broadcast(b)\n",
        "\n",
        "    def predict(self, test_rdd):\n",
        "        support_vectors_bc = self.support_vectors_bc\n",
        "        support_y_bc = self.support_y_bc\n",
        "        support_lambdas_bc = self.support_lambdas_bc\n",
        "        b_bc = self.b_bc\n",
        "\n",
        "        def predict_partition(data):\n",
        "            support_vectors = support_vectors_bc.value\n",
        "            support_y = support_y_bc.value\n",
        "            support_lambdas = support_lambdas_bc.value\n",
        "            b = b_bc.value\n",
        "\n",
        "            X_test = np.array(list(data))\n",
        "            kernel_values = self.kernel(X_test, support_vectors)\n",
        "            decision_values = np.sum(kernel_values * support_y * support_lambdas, axis=1) + b\n",
        "            predictions = [1 if val > 0 else 0 for val in decision_values]\n",
        "            return iter(predictions)\n",
        "\n",
        "        predictions = test_rdd.mapPartitions(predict_partition).collect()\n",
        "        return predictions\n",
        "\n"
      ],
      "metadata": {
        "id": "BwjdLNu_3S34"
      },
      "execution_count": null,
      "outputs": []
    },
    {
      "cell_type": "code",
      "source": [
        "\n",
        "from pyspark.ml.feature import VectorAssembler\n",
        "from pyspark.sql import SparkSession\n",
        "from pyspark.sql.functions import col\n",
        "\n",
        "\n",
        "\n",
        "\n",
        "# Khởi tạo SparkSession\n",
        "spark = SparkSession.builder \\\n",
        "    .appName(\"SVM Example\") \\\n",
        "    .getOrCreate()\n",
        "\n",
        "# data = spark.read.option(\"header\", \"true\").csv(\"/content/data_undersample.csv\")\n",
        "data = spark.read.csv(\"demo_data.csv\", header=True, inferSchema=True)\n",
        "\n",
        "# Tạo assembler để chuyển đổi dữ liệu thành định dạng mà SVM yêu cầu\n",
        "feature_cols = data.columns\n",
        "feature_cols.remove(\"diabetes\")\n",
        "assembler = VectorAssembler(inputCols=feature_cols, outputCol=\"features\")\n",
        "data = assembler.transform(data).select('features', col('diabetes').alias('label'))\n",
        "\n",
        "\n",
        "# Chia dữ liệu thành tập huấn luyện và kiểm tra\n",
        "train_rdd, test_rdd = data.rdd.randomSplit([0.7, 0.3], seed=1234)\n",
        "\n",
        "X_train = train_rdd.map(lambda x: np.array(x[0]))\n",
        "y_train = train_rdd.map(lambda x: x[1])\n",
        "\n",
        "X_test = test_rdd.map(lambda x: np.array(x[0]))\n",
        "y_test = test_rdd.map(lambda x: x[1])\n"
      ],
      "metadata": {
        "id": "Xxss_UpS6mkI",
        "outputId": "59fcf6d6-aa4b-4406-be0f-b7f40b047589",
        "colab": {
          "base_uri": "https://localhost:8080/"
        },
        "collapsed": true
      },
      "execution_count": null,
      "outputs": [
        {
          "output_type": "stream",
          "name": "stdout",
          "text": [
            "              precision    recall  f1-score   support\n",
            "\n",
            "         0.0       0.67      0.54      0.60      2578\n",
            "         1.0       0.61      0.73      0.66      2520\n",
            "\n",
            "    accuracy                           0.63      5098\n",
            "   macro avg       0.64      0.63      0.63      5098\n",
            "weighted avg       0.64      0.63      0.63      5098\n",
            "\n"
          ]
        }
      ]
    },
    {
      "cell_type": "code",
      "source": [
        "def calculate_accuracy(y_true, y_pred):\n",
        "    \"\"\"\n",
        "    Tính độ chính xác của dự đoán bằng cách so sánh y_pred với y_true.\n",
        "\n",
        "    Parameters:\n",
        "        - y_true: List hoặc numpy array chứa nhãn thực tế.\n",
        "        - y_pred: List hoặc numpy array chứa nhãn dự đoán.\n",
        "\n",
        "    Returns:\n",
        "        - Độ chính xác của dự đoán.\n",
        "    \"\"\"\n",
        "    correct = 0\n",
        "    total = len(y_true)\n",
        "\n",
        "    for true, pred in zip(y_true, y_pred):\n",
        "        if true == pred:\n",
        "            correct += 1\n",
        "\n",
        "    accuracy = correct / total\n",
        "    return accuracy"
      ],
      "metadata": {
        "id": "DBQqc7-pPztx"
      },
      "execution_count": null,
      "outputs": []
    },
    {
      "cell_type": "code",
      "source": [
        "import itertools\n",
        "def grid_search(X_train, y_train, X_test, y_test, Cs, gammas):\n",
        "    best_accuracy = 0\n",
        "    best_C = None\n",
        "    best_gamma = None;\n",
        "    train_cnt = 1\n",
        "    for C, gamma in itertools.product(Cs, gammas):\n",
        "        svm = SVM(C=C, gamma = gamma)\n",
        "        data_rdd = X_train.zip(y_train)\n",
        "        svm.fit(train_rdd)\n",
        "        y_pred = svm.predict(X_test)  # Dự đoán trên tập kiểm tra thay vì tập huấn luyện\n",
        "        accuracy = calculate_accuracy(np.array(y_test.collect()), y_pred)  # Đánh giá độ chính xác trên tập kiểm tra\n",
        "        print('...Train lan ', train_cnt)\n",
        "        train_cnt += 1\n",
        "        if accuracy > best_accuracy:\n",
        "            best_accuracy = accuracy\n",
        "            best_C = C\n",
        "            best_gamma = gamma\n",
        "\n",
        "    return best_C, best_gamma, best_accuracy\n",
        "\n",
        "\n",
        "# Xác định các giá trị của learning_rate và lambda_param\n",
        "Cs = [10, 100, 1000, 10000, 100000, 1000000]\n",
        "gammas = [0.0001, 0.001, 0.01, 0.1, 1, 10]\n",
        "\n",
        "best_C, best_gamma, best_accuracy = grid_search(X_train, y_train, X_test, y_test, Cs, gammas )"
      ],
      "metadata": {
        "colab": {
          "base_uri": "https://localhost:8080/"
        },
        "id": "anqXShhA98bZ",
        "outputId": "9186252a-9436-4577-aed8-b2c0009695e6"
      },
      "execution_count": null,
      "outputs": [
        {
          "output_type": "stream",
          "name": "stdout",
          "text": [
            "...Train lan  1\n",
            "...Train lan  2\n",
            "...Train lan  3\n",
            "...Train lan  4\n",
            "...Train lan  5\n",
            "...Train lan  6\n",
            "...Train lan  7\n",
            "...Train lan  8\n",
            "...Train lan  9\n",
            "...Train lan  10\n",
            "...Train lan  11\n",
            "...Train lan  12\n",
            "...Train lan  13\n",
            "...Train lan  14\n",
            "...Train lan  15\n",
            "...Train lan  16\n",
            "...Train lan  17\n",
            "...Train lan  18\n",
            "...Train lan  19\n",
            "...Train lan  20\n",
            "...Train lan  21\n",
            "...Train lan  22\n",
            "...Train lan  23\n",
            "...Train lan  24\n",
            "...Train lan  25\n",
            "...Train lan  26\n",
            "...Train lan  27\n",
            "...Train lan  28\n",
            "...Train lan  29\n",
            "...Train lan  30\n",
            "...Train lan  31\n",
            "...Train lan  32\n",
            "...Train lan  33\n",
            "...Train lan  34\n",
            "...Train lan  35\n",
            "...Train lan  36\n"
          ]
        }
      ]
    },
    {
      "cell_type": "code",
      "source": [
        "print(best_C)\n",
        "print(best_gamma)\n",
        "print(best_accuracy)"
      ],
      "metadata": {
        "colab": {
          "base_uri": "https://localhost:8080/"
        },
        "id": "JYXt-aCML4Vv",
        "outputId": "769b914b-ce2c-4568-86bc-640e9db36228"
      },
      "execution_count": null,
      "outputs": [
        {
          "output_type": "stream",
          "name": "stdout",
          "text": [
            "100000\n",
            "0.001\n",
            "0.6635935661043546\n"
          ]
        }
      ]
    },
    {
      "cell_type": "code",
      "source": [
        "\n",
        "# Sử dụng mô hình SVM đã huấn luyện\n",
        "svm = SVM(C=best_C, gamma=best_gamma)\n",
        "svm.fit(train_rdd)\n",
        "\n",
        "# Dự đoán trên tập test\n",
        "y_pred = svm.predict(X_test)\n",
        "\n",
        "# Chuyển đổi test_rdd thành mảng numpy để so sánh với nhãn thực tế\n",
        "y_true = np.array(test_rdd.map(lambda x: x[1]).collect())\n"
      ],
      "metadata": {
        "colab": {
          "base_uri": "https://localhost:8080/"
        },
        "collapsed": true,
        "id": "9JC8E8aiMbrC",
        "outputId": "1290e37a-ec23-4e98-dda1-7dc1a0388e5e"
      },
      "execution_count": null,
      "outputs": [
        {
          "output_type": "stream",
          "name": "stdout",
          "text": [
            "              precision    recall  f1-score   support\n",
            "\n",
            "         0.0       0.69      0.60      0.64      2578\n",
            "         1.0       0.64      0.72      0.68      2520\n",
            "\n",
            "    accuracy                           0.66      5098\n",
            "   macro avg       0.66      0.66      0.66      5098\n",
            "weighted avg       0.66      0.66      0.66      5098\n",
            "\n"
          ]
        }
      ]
    },
    {
      "cell_type": "code",
      "source": [
        "def calculate_metrics_per_class(y_true, y_pred, class_label):\n",
        "    \"\"\"\n",
        "    Tính toán precision, recall và f1-score cho một lớp cụ thể dựa trên kết quả dự đoán và nhãn thực tế.\n",
        "\n",
        "    Parameters:\n",
        "        - y_true: List hoặc numpy array chứa nhãn thực tế.\n",
        "        - y_pred: List hoặc numpy array chứa nhãn dự đoán.\n",
        "        - class_label: Nhãn của lớp cần tính toán metric.\n",
        "\n",
        "    Returns:\n",
        "        - precision: Precision của lớp cụ thể.\n",
        "        - recall: Recall của lớp cụ thể.\n",
        "        - f1_score: F1-score của lớp cụ thể.\n",
        "    \"\"\"\n",
        "    true_positives = 0\n",
        "    false_positives = 0\n",
        "    false_negatives = 0\n",
        "\n",
        "    for true, pred in zip(y_true, y_pred):\n",
        "        if true == class_label and pred == class_label:\n",
        "            true_positives += 1\n",
        "        elif true != class_label and pred == class_label:\n",
        "            false_positives += 1\n",
        "        elif true == class_label and pred != class_label:\n",
        "            false_negatives += 1\n",
        "\n",
        "    precision = true_positives / (true_positives + false_positives + 1e-15)\n",
        "    recall = true_positives / (true_positives + false_negatives + 1e-15)\n",
        "    f1_score = 2 * (precision * recall) / (precision + recall + 1e-15)\n",
        "\n",
        "    return precision, recall, f1_score\n",
        "\n",
        "# Tính toán các metric cho mỗi lớp\n",
        "num_classes = 2  # Số lượng lớp\n",
        "print(\"Accuracy: \", best_accuracy)\n",
        "for class_label in range(num_classes):\n",
        "    precision, recall, f1_score = calculate_metrics_per_class(y_true, y_pred, class_label)\n",
        "    print(\"------------Class:\", class_label)\n",
        "    print(\"Precision:\", precision)\n",
        "    print(\"Recall:\", recall)\n",
        "    print(\"F1-score:\", f1_score)\n",
        "\n"
      ],
      "metadata": {
        "colab": {
          "base_uri": "https://localhost:8080/"
        },
        "id": "14VUN958QIfN",
        "outputId": "a42ad9ed-20f8-40d3-a45a-70ea7f78fd61"
      },
      "execution_count": null,
      "outputs": [
        {
          "output_type": "stream",
          "name": "stdout",
          "text": [
            "Accuracy:  0.6635935661043546\n",
            "------------Class: 0\n",
            "Precision: 0.6861443116423196\n",
            "Recall: 0.6012412723041117\n",
            "F1-score: 0.6408931155675\n",
            "------------Class: 1\n",
            "Precision: 0.6379006692497359\n",
            "Recall: 0.7186507936507937\n",
            "F1-score: 0.6758723642470604\n"
          ]
        }
      ]
    }
  ]
}